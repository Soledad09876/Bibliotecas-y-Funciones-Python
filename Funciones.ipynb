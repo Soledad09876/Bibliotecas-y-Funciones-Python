{
  "nbformat": 4,
  "nbformat_minor": 0,
  "metadata": {
    "colab": {
      "provenance": [],
      "authorship_tag": "ABX9TyN7W+FaYOsYZVGR7uCJq9C5",
      "include_colab_link": true
    },
    "kernelspec": {
      "name": "python3",
      "display_name": "Python 3"
    },
    "language_info": {
      "name": "python"
    }
  },
  "cells": [
    {
      "cell_type": "markdown",
      "metadata": {
        "id": "view-in-github",
        "colab_type": "text"
      },
      "source": [
        "<a href=\"https://colab.research.google.com/github/Soledad09876/Bibliotecas-y-Funciones-Python/blob/main/Funciones.ipynb\" target=\"_parent\"><img src=\"https://colab.research.google.com/assets/colab-badge.svg\" alt=\"Open In Colab\"/></a>"
      ]
    },
    {
      "cell_type": "markdown",
      "source": [
        "Escribe un código que lee la lista siguiente y realiza:\n",
        "\n",
        "lista = [16, 14, 63, 65, 17, 99, 70, 11, 20, 48, 79, 32, 17, 89, 12, 25, 66]\n",
        "1. Leer el tamaño de la lista\n",
        "2. Leer el valor máximo y mínimo\n",
        "3. Calcular la suma de los valores de la lista\n",
        "4. Mostrar un mensaje al final: La lista tiene `tamano` números, donde el mayor es `mayor` y el menor es `menor`. La suma de los valores es `suma`."
      ],
      "metadata": {
        "id": "svuqFpM0FZsA"
      }
    },
    {
      "cell_type": "code",
      "source": [
        "lista = [16, 14, 63, 65, 17, 99, 70, 11, 20, 48, 79, 32, 17, 89, 12, 25, 66]\n",
        "\n",
        "tamaño = len(lista)\n",
        "mayor = max(lista)\n",
        "menor = min(lista)\n",
        "suma = sum(lista)\n",
        "\n",
        "print(f\"La lista tiene {tamaño} números, donde el mayor es {mayor} y el menor es {menor}. La suma de los valores es {suma}.\")"
      ],
      "metadata": {
        "colab": {
          "base_uri": "https://localhost:8080/"
        },
        "id": "BpaxfpBPFjda",
        "outputId": "b6c04d1d-fb30-421f-b199-69d925c98aba"
      },
      "execution_count": 1,
      "outputs": [
        {
          "output_type": "stream",
          "name": "stdout",
          "text": [
            "La lista tiene 17 números, donde el mayor es 99 y el menor es 11. La suma de los valores es 743.\n"
          ]
        }
      ]
    },
    {
      "cell_type": "markdown",
      "source": [
        "Escribe una función que genere la tabla de multiplicar de un número entero del 1 al 10, según la elección del usuario. Como ejemplo, para el número 7, la tabla de multiplicar se debe mostrar en el siguiente formato:\n",
        "\n",
        "Tabla del  7:\n",
        "7 x 0 = 0\n",
        "7 x 1 = 7\n",
        "[...]\n",
        "7 x 10 = 70"
      ],
      "metadata": {
        "id": "JvZbgOj_CU55"
      }
    },
    {
      "cell_type": "code",
      "source": [
        "def tabla_multiplicar():\n",
        "    numero = int(input(\"Ingresa un número entero para ver su tabla de multiplicar: \"))\n",
        "    print(f\"# Tabla del {numero}:\")\n",
        "    for i in range(1,11):\n",
        "        print(f\"# {numero} x {i} = {numero * i}\")\n",
        "\n",
        "tabla_multiplicar()"
      ],
      "metadata": {
        "colab": {
          "base_uri": "https://localhost:8080/"
        },
        "id": "fh1H0naBCUaa",
        "outputId": "d2452d14-5200-4af7-98aa-0826ec40e06a"
      },
      "execution_count": 2,
      "outputs": [
        {
          "output_type": "stream",
          "name": "stdout",
          "text": [
            "Ingresa un número entero para ver su tabla de multiplicar: 4\n",
            "# Tabla del 4:\n",
            "# 4 x 1 = 4\n",
            "# 4 x 2 = 8\n",
            "# 4 x 3 = 12\n",
            "# 4 x 4 = 16\n",
            "# 4 x 5 = 20\n",
            "# 4 x 6 = 24\n",
            "# 4 x 7 = 28\n",
            "# 4 x 8 = 32\n",
            "# 4 x 9 = 36\n",
            "# 4 x 10 = 40\n"
          ]
        }
      ]
    },
    {
      "cell_type": "markdown",
      "source": [
        "Crea una función que lea la siguiente lista y devuelva una nueva lista con los múltiplos de 3:\n",
        "\n",
        "[97, 80, 94, 88, 80, 1, 16, 53, 62, 32, 24, 99]"
      ],
      "metadata": {
        "id": "FSfmqLeRDxtV"
      }
    },
    {
      "cell_type": "code",
      "source": [
        "lista = [97, 80, 94, 88, 80, 1, 16, 53, 62, 32, 24, 99]\n",
        "\n",
        "def multiplos_de_3(lista):\n",
        "    multiplos = []\n",
        "    for i in lista:\n",
        "        if i % 3 == 0:\n",
        "            multiplos.append(i)\n",
        "    return multiplos\n",
        "\n",
        "print(multiplos_de_3(lista))"
      ],
      "metadata": {
        "colab": {
          "base_uri": "https://localhost:8080/"
        },
        "id": "EKTgzltHGk0K",
        "outputId": "21a745d2-7580-4106-fe68-24e438fb0ae7"
      },
      "execution_count": 3,
      "outputs": [
        {
          "output_type": "stream",
          "name": "stdout",
          "text": [
            "[24, 99]\n"
          ]
        }
      ]
    },
    {
      "cell_type": "markdown",
      "source": [
        "Crea una lista de los cuadrados de los números de la siguiente lista [1, 2, 3, 4, 5, 6, 7, 8, 9, 10]. Recuerda utilizar las funciones lambda y map() para calcular el cuadrado de cada elemento de la lista."
      ],
      "metadata": {
        "id": "DOAPA19UEG8A"
      }
    },
    {
      "cell_type": "code",
      "source": [
        "lista = [1, 2, 3, 4, 5, 6, 7, 8, 9, 10]\n",
        "\n",
        "def cuadrados(lista):\n",
        "    cuadrados = list(map(lambda x: x**2, lista))\n",
        "    return cuadrados\n",
        "\n",
        "print(cuadrados(lista))"
      ],
      "metadata": {
        "colab": {
          "base_uri": "https://localhost:8080/"
        },
        "id": "MubcLNSZEKrC",
        "outputId": "b3d32078-7956-48a5-ed14-97afed3f527f"
      },
      "execution_count": 4,
      "outputs": [
        {
          "output_type": "stream",
          "name": "stdout",
          "text": [
            "[1, 4, 9, 16, 25, 36, 49, 64, 81, 100]\n"
          ]
        }
      ]
    },
    {
      "cell_type": "markdown",
      "source": [
        "Has sido contratado como científico(a) de datos de una asociación de skate. Para analizar las notas recibidas por los skaters en algunas competiciones a lo largo del año, necesitas crear un código que calcule la puntuación de los atletas. Para ello, tu código debe recibir 5 notas ingresadas por los jueces."
      ],
      "metadata": {
        "id": "Leoy5PZEEXeX"
      }
    },
    {
      "cell_type": "code",
      "source": [
        "notas = []\n",
        "for i in range(5):\n",
        "    nota = float(input(f\"Ingresa la nota del ateta {i+1}: \"))\n",
        "    notas.append(nota)"
      ],
      "metadata": {
        "colab": {
          "base_uri": "https://localhost:8080/"
        },
        "id": "5Qq776oGEcFf",
        "outputId": "3b3fcaf7-9997-40c7-f78d-1404573c418c"
      },
      "execution_count": 6,
      "outputs": [
        {
          "name": "stdout",
          "output_type": "stream",
          "text": [
            "Ingresa la nota del ateta 1: 2\n",
            "Ingresa la nota del ateta 2: 3\n",
            "Ingresa la nota del ateta 3: 4\n",
            "Ingresa la nota del ateta 4: 56\n",
            "Ingresa la nota del ateta 5: 6\n"
          ]
        }
      ]
    },
    {
      "cell_type": "markdown",
      "source": [
        "Para cumplir con una demanda de una institución educativa para el análisis del rendimiento de sus estudiantes, necesitas crear una función que reciba una lista de 4 notas y devuelva:\n",
        "\n",
        "+ mayor nota\n",
        "+ menor nota\n",
        "+ media\n",
        "+ situación (Aprobado(a) o Reprobado(a))\n",
        "+ Uso de la función\n",
        "+ Mostrar: El estudiante obtuvo una media de `media`, con la mayor nota de `mayor` puntos y la menor nota de `menor` puntos y fue `situacion`.)"
      ],
      "metadata": {
        "id": "AZR9Vjr8E6YT"
      }
    },
    {
      "cell_type": "code",
      "source": [
        "notas = []\n",
        "\n",
        "for i in range(4):\n",
        "    nota = float(input(f\"Ingresa la nota del estudiante {i+1}: \"))\n",
        "    notas.append(nota)\n",
        "media = sum(notas) / len(notas)\n",
        "mayor = max(notas)\n",
        "menor = min(notas)\n",
        "situacion = \"\"\n",
        "\n",
        "if media >= 4:\n",
        "    situacion = \"Aprobado(a)\"\n",
        "else:\n",
        "    situacion = \"Reprobado(a)\"\n",
        "\n",
        "print(f\"El estudiante obtuvo una {media} de media, con la mayor nota de {mayor} puntos y la menor nota de {menor} puntos y fue {situacion}.).\")"
      ],
      "metadata": {
        "colab": {
          "base_uri": "https://localhost:8080/"
        },
        "id": "oOIzJ9HDFEoA",
        "outputId": "6c4f25df-cdbd-4774-a1c5-0f77cbdb1041"
      },
      "execution_count": 8,
      "outputs": [
        {
          "output_type": "stream",
          "name": "stdout",
          "text": [
            "Ingresa la nota del estudiante 1: 2\n",
            "Ingresa la nota del estudiante 2: 3\n",
            "Ingresa la nota del estudiante 3: 4\n",
            "Ingresa la nota del estudiante 4: 5\n",
            "El estudiante obtuvo una 3.5 de media, con la mayor nota de 5.0 puntos y la menor nota de 2.0 puntos y fue Reprobado(a).).\n"
          ]
        }
      ]
    },
    {
      "cell_type": "markdown",
      "source": [
        "Has recibido una demanda para tratar 2 listas con los nombres y apellidos de cada estudiante concatenándolos para presentar sus nombres completos en la forma Nombre Apellido. Las listas son:\n",
        "\n",
        "* nombres = [\"juan\", \"MaRia\", \"JOSÉ\"]\n",
        "* apellidos = [\"SILVA\", \"sosa\", \"Tavares\"]\n",
        "\n",
        "\n",
        "* Normalizar nombres y apellidos y crear una nueva lista con los nombres completos\n",
        "* Puedes apoyarte en la función map()"
      ],
      "metadata": {
        "id": "Rv1eoVViG_r6"
      }
    },
    {
      "cell_type": "code",
      "source": [
        "nombres = [\"juan\", \"MaRia\", \"JOSÉ\"]\n",
        "apellidos = [\"SILVA\", \"sosa\", \"Tavares\"]\n",
        "\n",
        "def normalizar_nombre(nombre):\n",
        "    return nombre.capitalize()\n",
        "\n",
        "nombres_normalizados = list(map(normalizar_nombre, nombres))\n",
        "apellidos_normalizados = list(map(normalizar_nombre, apellidos))\n",
        "\n",
        "nombres_completos = []\n",
        "for i in range(len(nombres_normalizados)):\n",
        "    nombres_completos.append(nombres_normalizados[i] + \" \" + apellidos_normalizados[i])\n",
        "\n",
        "print(nombres_completos)"
      ],
      "metadata": {
        "colab": {
          "base_uri": "https://localhost:8080/"
        },
        "id": "H7hvsp1GHUDE",
        "outputId": "09105cb2-11fb-46d0-be26-ee91ff6d6d5d"
      },
      "execution_count": 10,
      "outputs": [
        {
          "output_type": "stream",
          "name": "stdout",
          "text": [
            "['Juan Silva', 'Maria Sosa', 'José Tavares']\n"
          ]
        }
      ]
    },
    {
      "cell_type": "markdown",
      "source": [
        "Como científico de datos en un equipo de fútbol, necesitas implementar nuevas formas de recopilación de datos sobre el rendimiento de los jugadores y del equipo en su conjunto. Tu primera acción es crear una forma de calcular la puntuación del equipo en el campeonato nacional a partir de los datos de goles marcados y recibidos en cada juego.\n",
        "\n",
        "Escribe una función llamada calcula_puntos() que recibe como parámetros dos listas de números enteros, representando los goles marcados y recibidos por el equipo en cada partido del campeonato. La función debe devolver la puntuación del equipo y el rendimiento en porcentaje, teniendo en cuenta que la victoria vale 3 puntos, el empate 1 punto y la derrota 0 puntos.\n",
        "\n",
        "Nota: si la cantidad de goles marcados en un partido es mayor que los recibidos, el equipo ganó. En caso de ser igual, el equipo empató, y si es menor, el equipo perdió. Para calcular el rendimiento, debemos hacer la razón entre la puntuación del equipo y la puntuación máxima que podría recibir.\n",
        "\n",
        "Para la prueba, utiliza las siguientes listas de goles marcados y recibidos:\n",
        "\n",
        "+ goles_marcados = [2, 1, 3, 1, 0]\n",
        "+ goles_recibidos = [1, 2, 2, 1, 3]\n",
        "+ Texto probablemente mostrado:\n",
        "* La puntuación del equipo fue `puntos` y su rendimiento fue `desempeno`%\""
      ],
      "metadata": {
        "id": "-ugWCaLkIl64"
      }
    },
    {
      "cell_type": "code",
      "source": [
        "goles_marcados = [2, 1, 3, 1, 0]\n",
        "goles_recibidos = [1, 2, 2, 1, 3]\n",
        "\n",
        "def calcula_puntos(goles_marcados, goles_recibidos):\n",
        "    puntos = 0\n",
        "    for i in range(len(goles_marcados)):\n",
        "        if goles_marcados[i] > goles_recibidos[i]:\n",
        "            puntos += 3\n",
        "        elif goles_marcados[i] == goles_recibidos[i]:\n",
        "            puntos += 1\n",
        "\n",
        "    rendimiento = (puntos / (len(goles_marcados) * 3)) * 100\n",
        "    return puntos, rendimiento\n",
        "\n",
        "puntos, rendimiento = calcula_puntos(goles_marcados, goles_recibidos)\n",
        "print(f\"La puntuación del equipo fue {puntos} y su rendimiento fue {rendimiento}%\")\n",
        "\n"
      ],
      "metadata": {
        "colab": {
          "base_uri": "https://localhost:8080/"
        },
        "id": "VfJOQ88tJeBZ",
        "outputId": "169df2f9-4f43-4266-85b5-bccf49952c58"
      },
      "execution_count": 14,
      "outputs": [
        {
          "output_type": "stream",
          "name": "stdout",
          "text": [
            "La puntuación del equipo fue 7 y su rendimiento fue 46.666666666666664%\n"
          ]
        }
      ]
    },
    {
      "cell_type": "markdown",
      "source": [
        "Te han desafiado a crear un código que calcule los gastos de un viaje a una de las cuatro ciudades desde Recife, siendo ellas: Salvador, Fortaleza, Natal y Aracaju.\n",
        "\n",
        "El costo diario del hotel es de 150 reales en todas ellas y el consumo de gasolina en el viaje en coche es de 14 km/l, siendo que el precio de la gasolina es de 5 reales por litro. Los gastos con paseos y alimentación a realizar en cada una de ellas por día serían [200, 400, 250, 300], respectivamente.\n",
        "\n",
        "Sabiendo que las distancias entre Recife y cada una de las ciudades son aproximadamente [850, 800, 300, 550] km, crea tres funciones: la primera función calcula los gastos de hotel (gasto_hotel), la segunda calcula los gastos de gasolina (gasto_gasolina) y la tercera los gastos de paseo y alimentación (gasto_paseo).\n",
        "\n",
        "Para probar, simula un viaje de 3 días a Salvador desde Recife. Considera el viaje de ida y vuelta en coche.\n",
        "\n",
        "+ Texto probablemente mostrado:\n",
        "+ Con base en los gastos definidos, un viaje de [dias] días a [ciudad] desde\n",
        "+ Recife costaría [gastos] reales."
      ],
      "metadata": {
        "id": "lpTZ5gXWMNxf"
      }
    },
    {
      "cell_type": "code",
      "source": [
        "ciudades = [\"Salvador\", \"Fortaleza\", \"Natal\", \"Aracaju\"]\n",
        "distancias = [850, 800, 300, 550]\n",
        "gastos_alimentacion = [200, 400, 250, 300]\n",
        "costo_diario = 150\n",
        "consumo_gasolina = 14\n",
        "precio_gasolina = 5\n",
        "\n",
        "gasto_hotel = lambda dias: dias * costo_diario\n",
        "\n",
        "gasto_gasolina = lambda distancia: ((distancia * 2) / consumo_gasolina) * precio_gasolina\n",
        "\n",
        "gasto_paseo = lambda dias, indice_ciudad: dias * gastos_alimentacion[indice_ciudad]\n",
        "\n",
        "dias = 3\n",
        "ciudad = \"Salvador\"\n",
        "indice = ciudades.index(ciudad)\n",
        "distancia = distancias[indice]\n",
        "\n",
        "gastos_totales = gasto_hotel(dias) + gasto_gasolina(distancia) + gasto_paseo(dias, indice)\n",
        "\n",
        "print(f\"Con base en los gastos definidos, un viaje de {dias} días a {ciudad} desde Recife costaría {gastos_totales:.2f}.\")\n"
      ],
      "metadata": {
        "colab": {
          "base_uri": "https://localhost:8080/"
        },
        "id": "6CsaDvI2OYGp",
        "outputId": "94e0dd02-2b84-4452-9b5f-fd741da018ef"
      },
      "execution_count": 24,
      "outputs": [
        {
          "output_type": "stream",
          "name": "stdout",
          "text": [
            "Con base en los gastos definidos, un viaje de 3 días a Salvador desde Recife costaría 1657.14.\n"
          ]
        }
      ]
    },
    {
      "cell_type": "markdown",
      "source": [
        "Has comenzado una pasantía en una empresa que trabaja con procesamiento de lenguaje natural (NLP). Tu líder te solicitó que crees un fragmento de código que reciba una frase escrita por el usuario y filtre solo las palabras con un tamaño mayor o igual a 5, mostrándolas en una lista. Esta demanda se centra en el análisis del patrón de comportamiento de las personas al escribir palabras de esta cantidad de caracteres o más.\n",
        "\n",
        "Consejo: utiliza las funciones lambda y filter() para filtrar estas palabras. Recordando que la función integrada filter() recibe una función (en nuestro caso, una función lambda) y filtra un iterable según la función. Para tratar la frase, utiliza replace() para cambiar ',' '.', '!' y '?' por espacio.\n",
        "\n",
        "Utiliza la frase \"Aprender Python aquí en Alura es muy bueno\" para probar el código."
      ],
      "metadata": {
        "id": "kvdb4XT4PZp-"
      }
    },
    {
      "cell_type": "code",
      "source": [
        "frase = \"Aprender Python aquí en Alura es muy bueno\"\n",
        "\n",
        "frase = frase.replace(',', ' ')\n",
        "frase = frase.replace('.', ' ')\n",
        "frase = frase.replace('!', ' ')\n",
        "frase = frase.replace('?', ' ')\n",
        "\n",
        "palabras = frase.split()\n",
        "\n",
        "palabras_filtradas = list(filter(lambda x: len(x) >= 5, palabras))\n",
        "\n",
        "print(palabras_filtradas)"
      ],
      "metadata": {
        "colab": {
          "base_uri": "https://localhost:8080/"
        },
        "id": "xsB8GjlOPeT5",
        "outputId": "31653eb9-0491-4b10-a605-7267bde3c168"
      },
      "execution_count": 25,
      "outputs": [
        {
          "output_type": "stream",
          "name": "stdout",
          "text": [
            "['Aprender', 'Python', 'Alura', 'bueno']\n"
          ]
        }
      ]
    }
  ]
}